{
 "cells": [
  {
   "cell_type": "markdown",
   "metadata": {},
   "source": [
    "# Exercise 1"
   ]
  },
  {
   "cell_type": "markdown",
   "metadata": {},
   "source": [
    "## gradient descent 구현하기\n",
    "\n",
    "\n",
    "단순한 gradient descent함수를 numpy와 파이썬을 사용하여 구현해 보자.\n",
    "\n",
    "아래 함수는 W, X, Y를 인자로 받아 주어진 step 만큼 학습하는 함수이다.\n",
    "각 step수 마다 W를 개선하며 W와 cost를 출력해 보는 함수이다.\n",
    "\n",
    "##### hint: 아래 식은 W 개선 시 사용되는 식이다. (bias는 고려하지 않는다)\n",
    "<img src=\"./images/1.PNG\" width=50%/>"
   ]
  },
  {
   "cell_type": "code",
   "execution_count": 125,
   "metadata": {},
   "outputs": [],
   "source": [
    "import numpy as np\n",
    "\n",
    "def grad(W, X, Y, learning_rate = 0.1, step = 100):\n",
    "    for step in range(step):\n",
    "        # insert your code\n",
    "        \n",
    "        \n",
    "        if step % 10 == 0:\n",
    "            print(step, W, cost)\n",
    "    return W"
   ]
  },
  {
   "cell_type": "markdown",
   "metadata": {},
   "source": [
    "위 함수를 만들었다면 만든 함수를 가지고 간단한 예제를 통해 W를 학습 시켜보자.\n",
    "\n",
    "정상적으로 만들었다면 W는 2에 가까워야 한다."
   ]
  },
  {
   "cell_type": "code",
   "execution_count": 2,
   "metadata": {},
   "outputs": [
    {
     "name": "stdout",
     "output_type": "stream",
     "text": [
      "0 [[0.93634556]] 18.56138772846749\n",
      "10 [[1.99801944]] 6.435540111509881e-05\n",
      "20 [[1.99999631]] 2.231308193680736e-10\n",
      "30 [[1.99999999]] 7.736314477536554e-16\n",
      "40 [[2.]] 2.682313429311266e-21\n",
      "50 [[2.]] 9.315477649130816e-27\n",
      "60 [[2.]] 0.0\n",
      "70 [[2.]] 0.0\n",
      "80 [[2.]] 0.0\n",
      "90 [[2.]] 0.0\n",
      "100 [[2.]] 0.0\n",
      "W: [[2.]]\n"
     ]
    }
   ],
   "source": [
    "import numpy as np\n",
    "\n",
    "X = np.array([[1], [2], [3]])\n",
    "Y = np.array([[2], [4], [6]])\n",
    "W = np.random.random((1,1))\n",
    "\n",
    "W = grad(W, X, Y)\n",
    "print(\"W:\",W)"
   ]
  },
  {
   "cell_type": "markdown",
   "metadata": {},
   "source": [
    "# Exercise 2\n",
    "\n",
    "### 논리회로 만들어보기\n",
    "\n",
    "우리는 기존에 과제로 AND게이트를 만들어 본 적이 있다. 당시 W의 값을 직접 구했었는데 이번엔 위에서 우리가 만든 gradient descent로 인공지능에게 구하라고 시켜보자\n",
    "\n",
    "\n",
    "* 다음은 AND게이트의 진리표이다.\n",
    "\n",
    "|x1|x2| y|\n",
    "|-|-|-|\n",
    "|0|0|0|\n",
    "|1|0|0|\n",
    "|0|1|0|\n",
    "|1|1|1|"
   ]
  },
  {
   "cell_type": "code",
   "execution_count": 42,
   "metadata": {},
   "outputs": [],
   "source": [
    "# insert your code\n",
    "# 행렬의 size에 유의하자\n",
    "# 다른 게이트와 구분하기 위해 W의 이름을 W_and 라 하자.\n",
    "\n",
    "\n",
    "\n"
   ]
  },
  {
   "cell_type": "markdown",
   "metadata": {},
   "source": [
    "학습이 끝났다면 학습한 W값을 가지고 AND게이트가 학습이 제대로 이뤄졌는지 확인해보자.\n",
    "만일 학습이 제대로 이루어지지 않았다면 learning_rate나 step을 변경시켜 튜닝을 해주자."
   ]
  },
  {
   "cell_type": "code",
   "execution_count": 52,
   "metadata": {},
   "outputs": [],
   "source": [
    "def AND(x1, x2):\n",
    "    x = np.array([x1, x2])\n",
    "    y = np.matmul(x, W_and)\n",
    "    if y >= 0.5:\n",
    "        return 1\n",
    "    else:\n",
    "        return 0"
   ]
  },
  {
   "cell_type": "code",
   "execution_count": 58,
   "metadata": {},
   "outputs": [
    {
     "name": "stdout",
     "output_type": "stream",
     "text": [
      "0\n",
      "0\n",
      "0\n",
      "1\n"
     ]
    }
   ],
   "source": [
    "print(AND(0,0))\n",
    "print(AND(1,0))\n",
    "print(AND(0,1))\n",
    "print(AND(1,1))"
   ]
  },
  {
   "cell_type": "markdown",
   "metadata": {},
   "source": [
    "마찬가지로 OR게이트와 NAND게이트도 만들어 보자.\n",
    "\n",
    "* 다음은 OR게이트의 진리표이다.\n",
    "\n",
    "|x1|x2| y|\n",
    "|-|-|-|\n",
    "|0|0|0|\n",
    "|1|0|1|\n",
    "|0|1|1|\n",
    "|1|1|1|\n",
    "\n",
    "* 다음은 NAND게이트의 진리표이다.\n",
    "\n",
    "|x1|x2| y|\n",
    "|-|-|-|\n",
    "|0|0|1|\n",
    "|1|0|1|\n",
    "|0|1|1|\n",
    "|1|1|0|\n",
    "\n",
    "여기서도 W_or로 가중치의 이름을 정해 주자"
   ]
  },
  {
   "cell_type": "code",
   "execution_count": null,
   "metadata": {},
   "outputs": [],
   "source": [
    "# insert your code\n",
    "# 다른 게이트와 구분하기 위해 W의 이름을 W_or 라 하자.\n",
    "\n",
    "\n"
   ]
  },
  {
   "cell_type": "code",
   "execution_count": 60,
   "metadata": {},
   "outputs": [],
   "source": [
    "def OR(x1, x2):\n",
    "    x = np.array([x1, x2])\n",
    "    y = np.matmul(x, W_or)\n",
    "    if y >= 0.5:\n",
    "        return 1\n",
    "    else:\n",
    "        return 0"
   ]
  },
  {
   "cell_type": "code",
   "execution_count": 61,
   "metadata": {},
   "outputs": [
    {
     "name": "stdout",
     "output_type": "stream",
     "text": [
      "0\n",
      "1\n",
      "1\n",
      "1\n"
     ]
    }
   ],
   "source": [
    "print(OR(0,0))\n",
    "print(OR(1,0))\n",
    "print(OR(0,1))\n",
    "print(OR(1,1))"
   ]
  },
  {
   "cell_type": "markdown",
   "metadata": {},
   "source": [
    "NAND게이트의 경우 AND게이트를 반전시켜주면 되므로 별도로 학습을 하지 않아도 된다."
   ]
  },
  {
   "cell_type": "code",
   "execution_count": null,
   "metadata": {},
   "outputs": [],
   "source": [
    "# make nand function\n",
    "# def NAND(x1, x2):\n",
    "\n"
   ]
  },
  {
   "cell_type": "code",
   "execution_count": 66,
   "metadata": {},
   "outputs": [
    {
     "name": "stdout",
     "output_type": "stream",
     "text": [
      "1\n",
      "1\n",
      "1\n",
      "0\n"
     ]
    }
   ],
   "source": [
    "print(NAND(0,0))\n",
    "print(NAND(1,0))\n",
    "print(NAND(0,1))\n",
    "print(NAND(1,1))"
   ]
  },
  {
   "cell_type": "markdown",
   "metadata": {},
   "source": [
    "마지막으로 XOR게이트를 만들어보자\n",
    "기존과 같은 방식으로 학습시켜보자.\n",
    "\n",
    "* 다음은 XOR게이트의 진리표이다.\n",
    "\n",
    "|x1|x2| y|\n",
    "|-|-|-|\n",
    "|0|0|0|\n",
    "|1|0|1|\n",
    "|0|1|1|\n",
    "|1|1|0|\n"
   ]
  },
  {
   "cell_type": "code",
   "execution_count": null,
   "metadata": {},
   "outputs": [],
   "source": [
    "# insert your code\n",
    "# 다른 게이트와 구분하기 위해 W의 이름을 W_xor 라 하자.\n",
    "\n"
   ]
  },
  {
   "cell_type": "code",
   "execution_count": 77,
   "metadata": {},
   "outputs": [],
   "source": [
    "def XOR(x1, x2):\n",
    "    x = np.array([x1, x2])\n",
    "    y = np.matmul(x, W_xor)\n",
    "    if y >= 0.5:\n",
    "        return 1\n",
    "    else:\n",
    "        return 0"
   ]
  },
  {
   "cell_type": "code",
   "execution_count": 78,
   "metadata": {},
   "outputs": [
    {
     "name": "stdout",
     "output_type": "stream",
     "text": [
      "0\n",
      "0\n",
      "1\n",
      "1\n"
     ]
    }
   ],
   "source": [
    "print(XOR(0,0))\n",
    "print(XOR(1,0))\n",
    "print(XOR(0,1))\n",
    "print(XOR(1,1))"
   ]
  },
  {
   "cell_type": "markdown",
   "metadata": {},
   "source": [
    "아마 아무리 학습을 하여도 제대로 된 결과가 나오지 않을 것 이다. \n",
    "이는 단순 직선으로는 XOR게이트를 만들 수 없기 떄문이다.\n",
    "\n",
    "<img src=\"./images/2.PNG\" width=50%/>"
   ]
  },
  {
   "cell_type": "markdown",
   "metadata": {},
   "source": [
    "이러한 비선형 구조는 선형 구조의 분류자를 층을 쌓아서 조합해 비선형 구조로 만들어야한다.\n",
    "\n",
    "따라서 우리는 우리가 만든 AND, OR, NAND게이트를 조합하여 XOR를 만들어야 한다. \n",
    "\n",
    "##### hint: 조합 방법은 다음과 같다.\n",
    "\n",
    "<img src=\"./images/3.PNG\" width=60%/>\n",
    "\n",
    "\n",
    "위 방법은 마치 신경망 구조와 같다. 따라서 이를 다시 신경망 처럼 표현하면 다음과 같다.\n",
    "\n",
    "<img src=\"./images/4.PNG\" width=80%/>\n",
    "\n",
    "위 구조를 이용해서 XOR게이트 함수를 직접 구현해 보자"
   ]
  },
  {
   "cell_type": "code",
   "execution_count": null,
   "metadata": {},
   "outputs": [],
   "source": [
    "# make XOR gate\n",
    "# def XOR(x1,x2):\n"
   ]
  },
  {
   "cell_type": "code",
   "execution_count": 81,
   "metadata": {},
   "outputs": [
    {
     "name": "stdout",
     "output_type": "stream",
     "text": [
      "0\n",
      "1\n",
      "1\n",
      "0\n"
     ]
    }
   ],
   "source": [
    "print(XOR(0,0))\n",
    "print(XOR(1,0))\n",
    "print(XOR(0,1))\n",
    "print(XOR(1,1))"
   ]
  },
  {
   "cell_type": "markdown",
   "metadata": {},
   "source": [
    "# Example1\n",
    "\n",
    "### tensorflow 기초 실습\n",
    "\n",
    "앞에서 XOR게이트를 만들 때 본 신경망 구조는 tensorflow의 작동방식과 일치한다.\n",
    "\n",
    "tensorflow를 익히기 위해 간단한 예제를 실습해 보자.\n",
    "\n",
    "\n",
    "\n",
    "<img src=\"./images/5.png\" width=70%/>"
   ]
  },
  {
   "cell_type": "markdown",
   "metadata": {},
   "source": [
    "## Step 1: Define a computation graph"
   ]
  },
  {
   "cell_type": "code",
   "execution_count": 4,
   "metadata": {},
   "outputs": [],
   "source": [
    "import tensorflow as tf\n",
    "\n",
    "a = tf.placeholder(tf.int32, name=\"input_a\")\n",
    "b = tf.placeholder(tf.int32, name=\"input_b\")\n",
    "\n",
    "c = tf.add(a, b, name=\"add\")\n",
    "d = tf.multiply(a, b, name=\"multiply\")\n",
    "e = tf.subtract(c, d, name=\"subtract\")\n",
    "out = tf.add(b, e, name=\"output\")"
   ]
  },
  {
   "cell_type": "markdown",
   "metadata": {},
   "source": [
    "위와 같이 tensorflow를 이용하여 operation(Node)와 tensor(edge)를 정의하여 그래프를 정의해준다. \n",
    "\n",
    "이는 단순히 그래프를 정의한 것으로 Session 객체로 run 하기 전까지는 실행이 안된다."
   ]
  },
  {
   "cell_type": "markdown",
   "metadata": {},
   "source": [
    "## Step 2: Run the graph"
   ]
  },
  {
   "cell_type": "code",
   "execution_count": 5,
   "metadata": {},
   "outputs": [
    {
     "name": "stdout",
     "output_type": "stream",
     "text": [
      "out: -8\n"
     ]
    }
   ],
   "source": [
    "sess = tf.Session()\n",
    "input_data = { a: 7, b: 3 }\n",
    "result = sess.run(out, feed_dict=input_data)\n",
    "print(\"out:\",result)"
   ]
  },
  {
   "cell_type": "markdown",
   "metadata": {},
   "source": [
    "# Exercise 3\n",
    "\n",
    "### tensorflow를 이용하여 계산해보기\n",
    "\n",
    "다음 그래프를 정의하고 계산해 보자.\n",
    "<img src=\"./images/6.PNG\" width=70%/>\n",
    "\n",
    "\n",
    "tensorflow의 수학 관련 Operations 에 관한 설명은 [이곳을 참고하자](https://www.tensorflow.org/api_guides/python/math_ops)\n",
    "\n",
    "그래프 실행 후 결과는 다음과 같다\n",
    "\n",
    "|In | Out|\n",
    "|---|----|\n",
    "|1, 2, 3| 15|\n",
    "|-1, -2, 3| -3|\n",
    "|123, 456, 789|44613795|"
   ]
  },
  {
   "cell_type": "code",
   "execution_count": null,
   "metadata": {},
   "outputs": [],
   "source": [
    "# input your code\n",
    "\n",
    "\n"
   ]
  }
 ],
 "metadata": {
  "kernelspec": {
   "display_name": "Python 3",
   "language": "python",
   "name": "python3"
  },
  "language_info": {
   "codemirror_mode": {
    "name": "ipython",
    "version": 3
   },
   "file_extension": ".py",
   "mimetype": "text/x-python",
   "name": "python",
   "nbconvert_exporter": "python",
   "pygments_lexer": "ipython3",
   "version": "3.6.7"
  }
 },
 "nbformat": 4,
 "nbformat_minor": 2
}
