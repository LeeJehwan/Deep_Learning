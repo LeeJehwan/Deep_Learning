{
 "cells": [
  {
   "cell_type": "markdown",
   "metadata": {},
   "source": [
    "# Convolution\n",
    "\n",
    "딥러닝에서 가장 많이 쓰이는 기법으로 CNN이 있다. 그중 Convolution에 대해서 알아보자\n",
    "\n",
    "## 1. 신호처리에서의 convolution\n",
    "\n",
    "우선 신호처리 분야에서의 Convolution을 간단하게 알아 보자.\n",
    "\n",
    "<img src=\"./pic/1.PNG\" width=80%/>"
   ]
  },
  {
   "cell_type": "markdown",
   "metadata": {},
   "source": [
    "위 그림을 보면 처음에 f와 g의 두 신호가 존재한다. 위 신호중에서 f나 g중 하나의 신호를 축을 기준으로 뒤집는다.\n",
    "\n",
    "위 그림에서는 g가 뒤집혔다. 이후에 뒤집은 신호를 쭉 슬라이딩 하면서 f와 겹치는 면적의 값을 구한다. \n",
    "\n",
    "아래 그림을 참고하면 아래에서 삼각형 모양이 convolution을 한 결과이다.<bf><bf>\n",
    "\n",
    "\n",
    "<img src=\"./pic/2.GIF\" width=80%/>"
   ]
  },
  {
   "cell_type": "markdown",
   "metadata": {},
   "source": [
    "## 2. 딥러닝에서의 convolution\n",
    "\n",
    "사실 위의 내용을 깊게 알필요는 없으니 다시 딥러닝으로 돌아오면 딥러닝에서의 CNN은 조금 다르다.\n",
    "\n",
    "우선 딥러닝에서는 g의 역할이 filter(kernel) 일텐데 실제 구현시 이를 뒤집지 않고 구현하게 된다. \n",
    "\n",
    "또한 이미지는 Depth가 존재하므로 3차원의 공간에서 진행된다. 이를 아래 애니메이션으로 이해해보자.\n",
    "\n",
    "<img src=\"./pic/3.GIF\" width=80%/>"
   ]
  },
  {
   "cell_type": "markdown",
   "metadata": {},
   "source": [
    "위 애니메이션을 보면 5 X 5 X 3 의 이미지가 있다. 이 이미지를 4개의 3 X 3 X 3 의 필터를 이용해서 convolution 함을 알 수 있다. \n",
    "\n",
    "오른쪽 그림은 최종적으로 나오는 Activation map으로 3 X 3 X 4 의 크기를 갖게 된다.\n",
    "\n",
    "즉, R G B 각각의 이미지에서 필터는 각각 9개의 곱한 값을 갖게 되어 총 27개의 곱셈 값의 합을 통해 하나의 값을 얻게 된다.\n",
    "\n",
    "이제 실제 예시를 들어보겠다. 다만, 3차원일 경우 너무 복잡해 지는 것을 막기 위해서 1차원 평면의 예제로 보면 다음과 같다. \n",
    "\n",
    "<img src=\"./pic/4.GIF\" width=80%/>"
   ]
  },
  {
   "cell_type": "code",
   "execution_count": null,
   "metadata": {},
   "outputs": [],
   "source": []
  }
 ],
 "metadata": {
  "kernelspec": {
   "display_name": "Python 3",
   "language": "python",
   "name": "python3"
  },
  "language_info": {
   "codemirror_mode": {
    "name": "ipython",
    "version": 3
   },
   "file_extension": ".py",
   "mimetype": "text/x-python",
   "name": "python",
   "nbconvert_exporter": "python",
   "pygments_lexer": "ipython3",
   "version": "3.6.7"
  }
 },
 "nbformat": 4,
 "nbformat_minor": 2
}
