{
 "cells": [
  {
   "cell_type": "markdown",
   "metadata": {},
   "source": [
    "# Deep Learning study toy Project\n",
    "\n"
   ]
  },
  {
   "cell_type": "markdown",
   "metadata": {},
   "source": [
    "백준 문제중에 Linear Algebra and Group 이라는 문제가 있다.\n",
    "\n",
    "아주 단순한 문제로 \"선형대수와 군\"(이인석, 개정판)의 사진에 있는 모든 그림의 숫자를 합하면 되는 문제다.\n",
    "\n",
    "자세한 문제는 [이곳을 참고하자](https://www.acmicpc.net/problem/15636)\n",
    "\n",
    "\n",
    "\n",
    "> 문제를 확인했다면 [\"선형대수와 군\" 책의 사진을 보자](http://image.aladin.co.kr/product/5972/77/letslook/8952117441_f.jpg)\n",
    "\n",
    "이 문제를 풀기 위해 고민하던 우리는 딥러닝 스터디에서 MNIST를 배운 기억을 떠올렸다. \n",
    "\n",
    "MNIST를 활용해서 문제를 풀어보자\n",
    "\n"
   ]
  },
  {
   "cell_type": "markdown",
   "metadata": {},
   "source": [
    "> 참고로 지금부터 코드는 파이썬 3.6를 권장한다.<br>\n",
    "> 만일 주피터 노트북의 파이썬이 3.6버전이 아니라면<br>\n",
    "> conda install python=3.6 명령어를 이용하여 버전을 변경시키자"
   ]
  },
  {
   "cell_type": "markdown",
   "metadata": {},
   "source": [
    "# Problem 1\n",
    "\n",
    "### 이미지 가져오기\n",
    "\n",
    "우리는 선형대수와 군 책을 가지고 있지않다. 따라서 이미지를 가져와야 하는데 마우스 오른쪽 클릭하여 이미지를 가져오기엔 체면이 살지 않는다. \n",
    "\n",
    "웹 스크래핑 실습때 배운 이미지 추출을 복습할겸 한번 가볍게 써보자\n",
    "\n",
    "참고로 이미지를 가져올 주소는 http://image.aladin.co.kr/product/5972/77/letslook/8952117441_f.jpg 를 이용하면 된다.\n",
    "\n",
    "\n",
    "##### 참고: urllib 모듈은 파이썬 내장함수이다. 별로도 설치할 필요 없다."
   ]
  },
  {
   "cell_type": "code",
   "execution_count": 5,
   "metadata": {},
   "outputs": [
    {
     "data": {
      "text/plain": [
       "('linear.jpg', <http.client.HTTPMessage at 0x28725c6ee48>)"
      ]
     },
     "execution_count": 5,
     "metadata": {},
     "output_type": "execute_result"
    }
   ],
   "source": [
    "# \n",
    "\n",
    "from urllib.request import urlretrieve\n",
    "\n",
    "img_url = \"http://image.aladin.co.kr/product/5972/77/letslook/8952117441_f.jpg\"\n",
    "urlretrieve(img_url, \"linear.jpg\")\n",
    "\n"
   ]
  },
  {
   "cell_type": "code",
   "execution_count": null,
   "metadata": {},
   "outputs": [],
   "source": []
  }
 ],
 "metadata": {
  "kernelspec": {
   "display_name": "Python 3",
   "language": "python",
   "name": "python3"
  },
  "language_info": {
   "codemirror_mode": {
    "name": "ipython",
    "version": 3
   },
   "file_extension": ".py",
   "mimetype": "text/x-python",
   "name": "python",
   "nbconvert_exporter": "python",
   "pygments_lexer": "ipython3",
   "version": "3.6.7"
  }
 },
 "nbformat": 4,
 "nbformat_minor": 2
}
