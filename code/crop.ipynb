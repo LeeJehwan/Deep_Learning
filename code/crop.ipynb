{
 "cells": [
  {
   "cell_type": "code",
   "execution_count": 12,
   "metadata": {},
   "outputs": [],
   "source": [
    "from PIL import Image\n",
    "\n",
    "img = Image.open(\"linear.jpg\")\n",
    "u_x = 30\n",
    "u_y = 34\n",
    "w_step = 16.82\n",
    "h_step = 24.51\n",
    "cnt = 1\n",
    "for i in range(1, 30):\n",
    "    u_x = 30\n",
    "    for j in range(1, 51):\n",
    "        area = (u_x, u_y, u_x + w_step, u_y+h_step)\n",
    "        cropped_img = img.crop(area)\n",
    "        cropped_img = cropped_img.resize((28,28))\n",
    "        cropped_img = cropped_img.convert(\"1\")\n",
    "        path ='./tt/'+str('{:0>4}'.format(str(cnt)))+'.png'\n",
    "        cropped_img.save(path)\n",
    "        u_x += w_step\n",
    "        cnt+=1\n",
    "    u_y += h_step\n",
    "\n",
    "    "
   ]
  },
  {
   "cell_type": "code",
   "execution_count": 4,
   "metadata": {},
   "outputs": [],
   "source": [
    "from PIL import Image\n",
    "import glob, os\n",
    "\n",
    "size = 28, 28\n",
    "\n",
    "for infile in glob.glob(\"./tt/*.png\"):\n",
    "    file, ext = os.path.splitext(infile)\n",
    "    im = Image.open(infile)\n",
    "    im.thumbnail(size)\n",
    "    im.save(file + \".thumbnail\", \"png\")"
   ]
  },
  {
   "cell_type": "code",
   "execution_count": null,
   "metadata": {},
   "outputs": [],
   "source": []
  }
 ],
 "metadata": {
  "kernelspec": {
   "display_name": "Python 3",
   "language": "python",
   "name": "python3"
  },
  "language_info": {
   "codemirror_mode": {
    "name": "ipython",
    "version": 3
   },
   "file_extension": ".py",
   "mimetype": "text/x-python",
   "name": "python",
   "nbconvert_exporter": "python",
   "pygments_lexer": "ipython3",
   "version": "3.6.8"
  }
 },
 "nbformat": 4,
 "nbformat_minor": 2
}
